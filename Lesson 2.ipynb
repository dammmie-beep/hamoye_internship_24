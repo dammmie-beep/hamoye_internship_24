{
 "cells": [
  {
   "cell_type": "code",
   "execution_count": 36,
   "id": "0333c23e-4554-4f66-b7d3-9e18c2d7501e",
   "metadata": {},
   "outputs": [],
   "source": [
    "import pandas as pd\n",
    "import numpy as np\n",
    "from sklearn.linear_model import LinearRegression\n",
    "from sklearn.preprocessing import MinMaxScaler\n",
    "from sklearn.model_selection import train_test_split\n",
    "from sklearn.metrics import mean_absolute_error\n",
    "from sklearn.metrics import mean_squared_error"
   ]
  },
  {
   "cell_type": "markdown",
   "id": "637e66d9-b387-49c5-a87e-a6cd5fb1e4a0",
   "metadata": {},
   "source": [
    "## Data Exploration"
   ]
  },
  {
   "cell_type": "code",
   "execution_count": 37,
   "id": "7b7b765f-b23c-47c4-bc43-5cfa80ea5ce3",
   "metadata": {},
   "outputs": [
    {
     "data": {
      "text/html": [
       "<div>\n",
       "<style scoped>\n",
       "    .dataframe tbody tr th:only-of-type {\n",
       "        vertical-align: middle;\n",
       "    }\n",
       "\n",
       "    .dataframe tbody tr th {\n",
       "        vertical-align: top;\n",
       "    }\n",
       "\n",
       "    .dataframe thead th {\n",
       "        text-align: right;\n",
       "    }\n",
       "</style>\n",
       "<table border=\"1\" class=\"dataframe\">\n",
       "  <thead>\n",
       "    <tr style=\"text-align: right;\">\n",
       "      <th></th>\n",
       "      <th>date</th>\n",
       "      <th>Appliances</th>\n",
       "      <th>lights</th>\n",
       "      <th>T1</th>\n",
       "      <th>RH_1</th>\n",
       "      <th>T2</th>\n",
       "      <th>RH_2</th>\n",
       "      <th>T3</th>\n",
       "      <th>RH_3</th>\n",
       "      <th>T4</th>\n",
       "      <th>...</th>\n",
       "      <th>T9</th>\n",
       "      <th>RH_9</th>\n",
       "      <th>T_out</th>\n",
       "      <th>Press_mm_hg</th>\n",
       "      <th>RH_out</th>\n",
       "      <th>Windspeed</th>\n",
       "      <th>Visibility</th>\n",
       "      <th>Tdewpoint</th>\n",
       "      <th>rv1</th>\n",
       "      <th>rv2</th>\n",
       "    </tr>\n",
       "  </thead>\n",
       "  <tbody>\n",
       "    <tr>\n",
       "      <th>0</th>\n",
       "      <td>2016-01-11 17:00:00</td>\n",
       "      <td>60</td>\n",
       "      <td>30</td>\n",
       "      <td>19.89</td>\n",
       "      <td>47.596667</td>\n",
       "      <td>19.2</td>\n",
       "      <td>44.790000</td>\n",
       "      <td>19.79</td>\n",
       "      <td>44.730000</td>\n",
       "      <td>19.000000</td>\n",
       "      <td>...</td>\n",
       "      <td>17.033333</td>\n",
       "      <td>45.53</td>\n",
       "      <td>6.600000</td>\n",
       "      <td>733.5</td>\n",
       "      <td>92.0</td>\n",
       "      <td>7.000000</td>\n",
       "      <td>63.000000</td>\n",
       "      <td>5.3</td>\n",
       "      <td>13.275433</td>\n",
       "      <td>13.275433</td>\n",
       "    </tr>\n",
       "    <tr>\n",
       "      <th>1</th>\n",
       "      <td>2016-01-11 17:10:00</td>\n",
       "      <td>60</td>\n",
       "      <td>30</td>\n",
       "      <td>19.89</td>\n",
       "      <td>46.693333</td>\n",
       "      <td>19.2</td>\n",
       "      <td>44.722500</td>\n",
       "      <td>19.79</td>\n",
       "      <td>44.790000</td>\n",
       "      <td>19.000000</td>\n",
       "      <td>...</td>\n",
       "      <td>17.066667</td>\n",
       "      <td>45.56</td>\n",
       "      <td>6.483333</td>\n",
       "      <td>733.6</td>\n",
       "      <td>92.0</td>\n",
       "      <td>6.666667</td>\n",
       "      <td>59.166667</td>\n",
       "      <td>5.2</td>\n",
       "      <td>18.606195</td>\n",
       "      <td>18.606195</td>\n",
       "    </tr>\n",
       "    <tr>\n",
       "      <th>2</th>\n",
       "      <td>2016-01-11 17:20:00</td>\n",
       "      <td>50</td>\n",
       "      <td>30</td>\n",
       "      <td>19.89</td>\n",
       "      <td>46.300000</td>\n",
       "      <td>19.2</td>\n",
       "      <td>44.626667</td>\n",
       "      <td>19.79</td>\n",
       "      <td>44.933333</td>\n",
       "      <td>18.926667</td>\n",
       "      <td>...</td>\n",
       "      <td>17.000000</td>\n",
       "      <td>45.50</td>\n",
       "      <td>6.366667</td>\n",
       "      <td>733.7</td>\n",
       "      <td>92.0</td>\n",
       "      <td>6.333333</td>\n",
       "      <td>55.333333</td>\n",
       "      <td>5.1</td>\n",
       "      <td>28.642668</td>\n",
       "      <td>28.642668</td>\n",
       "    </tr>\n",
       "    <tr>\n",
       "      <th>3</th>\n",
       "      <td>2016-01-11 17:30:00</td>\n",
       "      <td>50</td>\n",
       "      <td>40</td>\n",
       "      <td>19.89</td>\n",
       "      <td>46.066667</td>\n",
       "      <td>19.2</td>\n",
       "      <td>44.590000</td>\n",
       "      <td>19.79</td>\n",
       "      <td>45.000000</td>\n",
       "      <td>18.890000</td>\n",
       "      <td>...</td>\n",
       "      <td>17.000000</td>\n",
       "      <td>45.40</td>\n",
       "      <td>6.250000</td>\n",
       "      <td>733.8</td>\n",
       "      <td>92.0</td>\n",
       "      <td>6.000000</td>\n",
       "      <td>51.500000</td>\n",
       "      <td>5.0</td>\n",
       "      <td>45.410389</td>\n",
       "      <td>45.410389</td>\n",
       "    </tr>\n",
       "    <tr>\n",
       "      <th>4</th>\n",
       "      <td>2016-01-11 17:40:00</td>\n",
       "      <td>60</td>\n",
       "      <td>40</td>\n",
       "      <td>19.89</td>\n",
       "      <td>46.333333</td>\n",
       "      <td>19.2</td>\n",
       "      <td>44.530000</td>\n",
       "      <td>19.79</td>\n",
       "      <td>45.000000</td>\n",
       "      <td>18.890000</td>\n",
       "      <td>...</td>\n",
       "      <td>17.000000</td>\n",
       "      <td>45.40</td>\n",
       "      <td>6.133333</td>\n",
       "      <td>733.9</td>\n",
       "      <td>92.0</td>\n",
       "      <td>5.666667</td>\n",
       "      <td>47.666667</td>\n",
       "      <td>4.9</td>\n",
       "      <td>10.084097</td>\n",
       "      <td>10.084097</td>\n",
       "    </tr>\n",
       "  </tbody>\n",
       "</table>\n",
       "<p>5 rows × 29 columns</p>\n",
       "</div>"
      ],
      "text/plain": [
       "                  date  Appliances  lights     T1       RH_1    T2       RH_2  \\\n",
       "0  2016-01-11 17:00:00          60      30  19.89  47.596667  19.2  44.790000   \n",
       "1  2016-01-11 17:10:00          60      30  19.89  46.693333  19.2  44.722500   \n",
       "2  2016-01-11 17:20:00          50      30  19.89  46.300000  19.2  44.626667   \n",
       "3  2016-01-11 17:30:00          50      40  19.89  46.066667  19.2  44.590000   \n",
       "4  2016-01-11 17:40:00          60      40  19.89  46.333333  19.2  44.530000   \n",
       "\n",
       "      T3       RH_3         T4  ...         T9   RH_9     T_out  Press_mm_hg  \\\n",
       "0  19.79  44.730000  19.000000  ...  17.033333  45.53  6.600000        733.5   \n",
       "1  19.79  44.790000  19.000000  ...  17.066667  45.56  6.483333        733.6   \n",
       "2  19.79  44.933333  18.926667  ...  17.000000  45.50  6.366667        733.7   \n",
       "3  19.79  45.000000  18.890000  ...  17.000000  45.40  6.250000        733.8   \n",
       "4  19.79  45.000000  18.890000  ...  17.000000  45.40  6.133333        733.9   \n",
       "\n",
       "   RH_out  Windspeed  Visibility  Tdewpoint        rv1        rv2  \n",
       "0    92.0   7.000000   63.000000        5.3  13.275433  13.275433  \n",
       "1    92.0   6.666667   59.166667        5.2  18.606195  18.606195  \n",
       "2    92.0   6.333333   55.333333        5.1  28.642668  28.642668  \n",
       "3    92.0   6.000000   51.500000        5.0  45.410389  45.410389  \n",
       "4    92.0   5.666667   47.666667        4.9  10.084097  10.084097  \n",
       "\n",
       "[5 rows x 29 columns]"
      ]
     },
     "execution_count": 37,
     "metadata": {},
     "output_type": "execute_result"
    }
   ],
   "source": [
    "data = pd.read_csv('energydata_complete.csv')\n",
    "data.head()"
   ]
  },
  {
   "cell_type": "code",
   "execution_count": 38,
   "id": "d07899a4-fec8-4042-941d-40bed17af123",
   "metadata": {},
   "outputs": [
    {
     "name": "stdout",
     "output_type": "stream",
     "text": [
      "<class 'pandas.core.frame.DataFrame'>\n",
      "RangeIndex: 19735 entries, 0 to 19734\n",
      "Data columns (total 29 columns):\n",
      " #   Column       Non-Null Count  Dtype  \n",
      "---  ------       --------------  -----  \n",
      " 0   date         19735 non-null  object \n",
      " 1   Appliances   19735 non-null  int64  \n",
      " 2   lights       19735 non-null  int64  \n",
      " 3   T1           19735 non-null  float64\n",
      " 4   RH_1         19735 non-null  float64\n",
      " 5   T2           19735 non-null  float64\n",
      " 6   RH_2         19735 non-null  float64\n",
      " 7   T3           19735 non-null  float64\n",
      " 8   RH_3         19735 non-null  float64\n",
      " 9   T4           19735 non-null  float64\n",
      " 10  RH_4         19735 non-null  float64\n",
      " 11  T5           19735 non-null  float64\n",
      " 12  RH_5         19735 non-null  float64\n",
      " 13  T6           19735 non-null  float64\n",
      " 14  RH_6         19735 non-null  float64\n",
      " 15  T7           19735 non-null  float64\n",
      " 16  RH_7         19735 non-null  float64\n",
      " 17  T8           19735 non-null  float64\n",
      " 18  RH_8         19735 non-null  float64\n",
      " 19  T9           19735 non-null  float64\n",
      " 20  RH_9         19735 non-null  float64\n",
      " 21  T_out        19735 non-null  float64\n",
      " 22  Press_mm_hg  19735 non-null  float64\n",
      " 23  RH_out       19735 non-null  float64\n",
      " 24  Windspeed    19735 non-null  float64\n",
      " 25  Visibility   19735 non-null  float64\n",
      " 26  Tdewpoint    19735 non-null  float64\n",
      " 27  rv1          19735 non-null  float64\n",
      " 28  rv2          19735 non-null  float64\n",
      "dtypes: float64(26), int64(2), object(1)\n",
      "memory usage: 4.4+ MB\n"
     ]
    }
   ],
   "source": [
    "data.info()"
   ]
  },
  {
   "cell_type": "code",
   "execution_count": 39,
   "id": "84f2b40d-0d33-47c6-9c8d-8a1c669d850b",
   "metadata": {},
   "outputs": [
    {
     "data": {
      "text/html": [
       "<div>\n",
       "<style scoped>\n",
       "    .dataframe tbody tr th:only-of-type {\n",
       "        vertical-align: middle;\n",
       "    }\n",
       "\n",
       "    .dataframe tbody tr th {\n",
       "        vertical-align: top;\n",
       "    }\n",
       "\n",
       "    .dataframe thead th {\n",
       "        text-align: right;\n",
       "    }\n",
       "</style>\n",
       "<table border=\"1\" class=\"dataframe\">\n",
       "  <thead>\n",
       "    <tr style=\"text-align: right;\">\n",
       "      <th></th>\n",
       "      <th>count</th>\n",
       "      <th>mean</th>\n",
       "      <th>std</th>\n",
       "      <th>min</th>\n",
       "      <th>25%</th>\n",
       "      <th>50%</th>\n",
       "      <th>75%</th>\n",
       "      <th>max</th>\n",
       "    </tr>\n",
       "  </thead>\n",
       "  <tbody>\n",
       "    <tr>\n",
       "      <th>Appliances</th>\n",
       "      <td>19735.0</td>\n",
       "      <td>97.694958</td>\n",
       "      <td>102.524891</td>\n",
       "      <td>10.000000</td>\n",
       "      <td>50.000000</td>\n",
       "      <td>60.000000</td>\n",
       "      <td>100.000000</td>\n",
       "      <td>1080.000000</td>\n",
       "    </tr>\n",
       "    <tr>\n",
       "      <th>lights</th>\n",
       "      <td>19735.0</td>\n",
       "      <td>3.801875</td>\n",
       "      <td>7.935988</td>\n",
       "      <td>0.000000</td>\n",
       "      <td>0.000000</td>\n",
       "      <td>0.000000</td>\n",
       "      <td>0.000000</td>\n",
       "      <td>70.000000</td>\n",
       "    </tr>\n",
       "    <tr>\n",
       "      <th>T1</th>\n",
       "      <td>19735.0</td>\n",
       "      <td>21.686571</td>\n",
       "      <td>1.606066</td>\n",
       "      <td>16.790000</td>\n",
       "      <td>20.760000</td>\n",
       "      <td>21.600000</td>\n",
       "      <td>22.600000</td>\n",
       "      <td>26.260000</td>\n",
       "    </tr>\n",
       "    <tr>\n",
       "      <th>RH_1</th>\n",
       "      <td>19735.0</td>\n",
       "      <td>40.259739</td>\n",
       "      <td>3.979299</td>\n",
       "      <td>27.023333</td>\n",
       "      <td>37.333333</td>\n",
       "      <td>39.656667</td>\n",
       "      <td>43.066667</td>\n",
       "      <td>63.360000</td>\n",
       "    </tr>\n",
       "    <tr>\n",
       "      <th>T2</th>\n",
       "      <td>19735.0</td>\n",
       "      <td>20.341219</td>\n",
       "      <td>2.192974</td>\n",
       "      <td>16.100000</td>\n",
       "      <td>18.790000</td>\n",
       "      <td>20.000000</td>\n",
       "      <td>21.500000</td>\n",
       "      <td>29.856667</td>\n",
       "    </tr>\n",
       "    <tr>\n",
       "      <th>RH_2</th>\n",
       "      <td>19735.0</td>\n",
       "      <td>40.420420</td>\n",
       "      <td>4.069813</td>\n",
       "      <td>20.463333</td>\n",
       "      <td>37.900000</td>\n",
       "      <td>40.500000</td>\n",
       "      <td>43.260000</td>\n",
       "      <td>56.026667</td>\n",
       "    </tr>\n",
       "    <tr>\n",
       "      <th>T3</th>\n",
       "      <td>19735.0</td>\n",
       "      <td>22.267611</td>\n",
       "      <td>2.006111</td>\n",
       "      <td>17.200000</td>\n",
       "      <td>20.790000</td>\n",
       "      <td>22.100000</td>\n",
       "      <td>23.290000</td>\n",
       "      <td>29.236000</td>\n",
       "    </tr>\n",
       "    <tr>\n",
       "      <th>RH_3</th>\n",
       "      <td>19735.0</td>\n",
       "      <td>39.242500</td>\n",
       "      <td>3.254576</td>\n",
       "      <td>28.766667</td>\n",
       "      <td>36.900000</td>\n",
       "      <td>38.530000</td>\n",
       "      <td>41.760000</td>\n",
       "      <td>50.163333</td>\n",
       "    </tr>\n",
       "    <tr>\n",
       "      <th>T4</th>\n",
       "      <td>19735.0</td>\n",
       "      <td>20.855335</td>\n",
       "      <td>2.042884</td>\n",
       "      <td>15.100000</td>\n",
       "      <td>19.530000</td>\n",
       "      <td>20.666667</td>\n",
       "      <td>22.100000</td>\n",
       "      <td>26.200000</td>\n",
       "    </tr>\n",
       "    <tr>\n",
       "      <th>RH_4</th>\n",
       "      <td>19735.0</td>\n",
       "      <td>39.026904</td>\n",
       "      <td>4.341321</td>\n",
       "      <td>27.660000</td>\n",
       "      <td>35.530000</td>\n",
       "      <td>38.400000</td>\n",
       "      <td>42.156667</td>\n",
       "      <td>51.090000</td>\n",
       "    </tr>\n",
       "    <tr>\n",
       "      <th>T5</th>\n",
       "      <td>19735.0</td>\n",
       "      <td>19.592106</td>\n",
       "      <td>1.844623</td>\n",
       "      <td>15.330000</td>\n",
       "      <td>18.277500</td>\n",
       "      <td>19.390000</td>\n",
       "      <td>20.619643</td>\n",
       "      <td>25.795000</td>\n",
       "    </tr>\n",
       "    <tr>\n",
       "      <th>RH_5</th>\n",
       "      <td>19735.0</td>\n",
       "      <td>50.949283</td>\n",
       "      <td>9.022034</td>\n",
       "      <td>29.815000</td>\n",
       "      <td>45.400000</td>\n",
       "      <td>49.090000</td>\n",
       "      <td>53.663333</td>\n",
       "      <td>96.321667</td>\n",
       "    </tr>\n",
       "    <tr>\n",
       "      <th>T6</th>\n",
       "      <td>19735.0</td>\n",
       "      <td>7.910939</td>\n",
       "      <td>6.090347</td>\n",
       "      <td>-6.065000</td>\n",
       "      <td>3.626667</td>\n",
       "      <td>7.300000</td>\n",
       "      <td>11.256000</td>\n",
       "      <td>28.290000</td>\n",
       "    </tr>\n",
       "    <tr>\n",
       "      <th>RH_6</th>\n",
       "      <td>19735.0</td>\n",
       "      <td>54.609083</td>\n",
       "      <td>31.149806</td>\n",
       "      <td>1.000000</td>\n",
       "      <td>30.025000</td>\n",
       "      <td>55.290000</td>\n",
       "      <td>83.226667</td>\n",
       "      <td>99.900000</td>\n",
       "    </tr>\n",
       "    <tr>\n",
       "      <th>T7</th>\n",
       "      <td>19735.0</td>\n",
       "      <td>20.267106</td>\n",
       "      <td>2.109993</td>\n",
       "      <td>15.390000</td>\n",
       "      <td>18.700000</td>\n",
       "      <td>20.033333</td>\n",
       "      <td>21.600000</td>\n",
       "      <td>26.000000</td>\n",
       "    </tr>\n",
       "    <tr>\n",
       "      <th>RH_7</th>\n",
       "      <td>19735.0</td>\n",
       "      <td>35.388200</td>\n",
       "      <td>5.114208</td>\n",
       "      <td>23.200000</td>\n",
       "      <td>31.500000</td>\n",
       "      <td>34.863333</td>\n",
       "      <td>39.000000</td>\n",
       "      <td>51.400000</td>\n",
       "    </tr>\n",
       "    <tr>\n",
       "      <th>T8</th>\n",
       "      <td>19735.0</td>\n",
       "      <td>22.029107</td>\n",
       "      <td>1.956162</td>\n",
       "      <td>16.306667</td>\n",
       "      <td>20.790000</td>\n",
       "      <td>22.100000</td>\n",
       "      <td>23.390000</td>\n",
       "      <td>27.230000</td>\n",
       "    </tr>\n",
       "    <tr>\n",
       "      <th>RH_8</th>\n",
       "      <td>19735.0</td>\n",
       "      <td>42.936165</td>\n",
       "      <td>5.224361</td>\n",
       "      <td>29.600000</td>\n",
       "      <td>39.066667</td>\n",
       "      <td>42.375000</td>\n",
       "      <td>46.536000</td>\n",
       "      <td>58.780000</td>\n",
       "    </tr>\n",
       "    <tr>\n",
       "      <th>T9</th>\n",
       "      <td>19735.0</td>\n",
       "      <td>19.485828</td>\n",
       "      <td>2.014712</td>\n",
       "      <td>14.890000</td>\n",
       "      <td>18.000000</td>\n",
       "      <td>19.390000</td>\n",
       "      <td>20.600000</td>\n",
       "      <td>24.500000</td>\n",
       "    </tr>\n",
       "    <tr>\n",
       "      <th>RH_9</th>\n",
       "      <td>19735.0</td>\n",
       "      <td>41.552401</td>\n",
       "      <td>4.151497</td>\n",
       "      <td>29.166667</td>\n",
       "      <td>38.500000</td>\n",
       "      <td>40.900000</td>\n",
       "      <td>44.338095</td>\n",
       "      <td>53.326667</td>\n",
       "    </tr>\n",
       "    <tr>\n",
       "      <th>T_out</th>\n",
       "      <td>19735.0</td>\n",
       "      <td>7.411665</td>\n",
       "      <td>5.317409</td>\n",
       "      <td>-5.000000</td>\n",
       "      <td>3.666667</td>\n",
       "      <td>6.916667</td>\n",
       "      <td>10.408333</td>\n",
       "      <td>26.100000</td>\n",
       "    </tr>\n",
       "    <tr>\n",
       "      <th>Press_mm_hg</th>\n",
       "      <td>19735.0</td>\n",
       "      <td>755.522602</td>\n",
       "      <td>7.399441</td>\n",
       "      <td>729.300000</td>\n",
       "      <td>750.933333</td>\n",
       "      <td>756.100000</td>\n",
       "      <td>760.933333</td>\n",
       "      <td>772.300000</td>\n",
       "    </tr>\n",
       "    <tr>\n",
       "      <th>RH_out</th>\n",
       "      <td>19735.0</td>\n",
       "      <td>79.750418</td>\n",
       "      <td>14.901088</td>\n",
       "      <td>24.000000</td>\n",
       "      <td>70.333333</td>\n",
       "      <td>83.666667</td>\n",
       "      <td>91.666667</td>\n",
       "      <td>100.000000</td>\n",
       "    </tr>\n",
       "    <tr>\n",
       "      <th>Windspeed</th>\n",
       "      <td>19735.0</td>\n",
       "      <td>4.039752</td>\n",
       "      <td>2.451221</td>\n",
       "      <td>0.000000</td>\n",
       "      <td>2.000000</td>\n",
       "      <td>3.666667</td>\n",
       "      <td>5.500000</td>\n",
       "      <td>14.000000</td>\n",
       "    </tr>\n",
       "    <tr>\n",
       "      <th>Visibility</th>\n",
       "      <td>19735.0</td>\n",
       "      <td>38.330834</td>\n",
       "      <td>11.794719</td>\n",
       "      <td>1.000000</td>\n",
       "      <td>29.000000</td>\n",
       "      <td>40.000000</td>\n",
       "      <td>40.000000</td>\n",
       "      <td>66.000000</td>\n",
       "    </tr>\n",
       "    <tr>\n",
       "      <th>Tdewpoint</th>\n",
       "      <td>19735.0</td>\n",
       "      <td>3.760707</td>\n",
       "      <td>4.194648</td>\n",
       "      <td>-6.600000</td>\n",
       "      <td>0.900000</td>\n",
       "      <td>3.433333</td>\n",
       "      <td>6.566667</td>\n",
       "      <td>15.500000</td>\n",
       "    </tr>\n",
       "    <tr>\n",
       "      <th>rv1</th>\n",
       "      <td>19735.0</td>\n",
       "      <td>24.988033</td>\n",
       "      <td>14.496634</td>\n",
       "      <td>0.005322</td>\n",
       "      <td>12.497889</td>\n",
       "      <td>24.897653</td>\n",
       "      <td>37.583769</td>\n",
       "      <td>49.996530</td>\n",
       "    </tr>\n",
       "    <tr>\n",
       "      <th>rv2</th>\n",
       "      <td>19735.0</td>\n",
       "      <td>24.988033</td>\n",
       "      <td>14.496634</td>\n",
       "      <td>0.005322</td>\n",
       "      <td>12.497889</td>\n",
       "      <td>24.897653</td>\n",
       "      <td>37.583769</td>\n",
       "      <td>49.996530</td>\n",
       "    </tr>\n",
       "  </tbody>\n",
       "</table>\n",
       "</div>"
      ],
      "text/plain": [
       "               count        mean         std         min         25%  \\\n",
       "Appliances   19735.0   97.694958  102.524891   10.000000   50.000000   \n",
       "lights       19735.0    3.801875    7.935988    0.000000    0.000000   \n",
       "T1           19735.0   21.686571    1.606066   16.790000   20.760000   \n",
       "RH_1         19735.0   40.259739    3.979299   27.023333   37.333333   \n",
       "T2           19735.0   20.341219    2.192974   16.100000   18.790000   \n",
       "RH_2         19735.0   40.420420    4.069813   20.463333   37.900000   \n",
       "T3           19735.0   22.267611    2.006111   17.200000   20.790000   \n",
       "RH_3         19735.0   39.242500    3.254576   28.766667   36.900000   \n",
       "T4           19735.0   20.855335    2.042884   15.100000   19.530000   \n",
       "RH_4         19735.0   39.026904    4.341321   27.660000   35.530000   \n",
       "T5           19735.0   19.592106    1.844623   15.330000   18.277500   \n",
       "RH_5         19735.0   50.949283    9.022034   29.815000   45.400000   \n",
       "T6           19735.0    7.910939    6.090347   -6.065000    3.626667   \n",
       "RH_6         19735.0   54.609083   31.149806    1.000000   30.025000   \n",
       "T7           19735.0   20.267106    2.109993   15.390000   18.700000   \n",
       "RH_7         19735.0   35.388200    5.114208   23.200000   31.500000   \n",
       "T8           19735.0   22.029107    1.956162   16.306667   20.790000   \n",
       "RH_8         19735.0   42.936165    5.224361   29.600000   39.066667   \n",
       "T9           19735.0   19.485828    2.014712   14.890000   18.000000   \n",
       "RH_9         19735.0   41.552401    4.151497   29.166667   38.500000   \n",
       "T_out        19735.0    7.411665    5.317409   -5.000000    3.666667   \n",
       "Press_mm_hg  19735.0  755.522602    7.399441  729.300000  750.933333   \n",
       "RH_out       19735.0   79.750418   14.901088   24.000000   70.333333   \n",
       "Windspeed    19735.0    4.039752    2.451221    0.000000    2.000000   \n",
       "Visibility   19735.0   38.330834   11.794719    1.000000   29.000000   \n",
       "Tdewpoint    19735.0    3.760707    4.194648   -6.600000    0.900000   \n",
       "rv1          19735.0   24.988033   14.496634    0.005322   12.497889   \n",
       "rv2          19735.0   24.988033   14.496634    0.005322   12.497889   \n",
       "\n",
       "                    50%         75%          max  \n",
       "Appliances    60.000000  100.000000  1080.000000  \n",
       "lights         0.000000    0.000000    70.000000  \n",
       "T1            21.600000   22.600000    26.260000  \n",
       "RH_1          39.656667   43.066667    63.360000  \n",
       "T2            20.000000   21.500000    29.856667  \n",
       "RH_2          40.500000   43.260000    56.026667  \n",
       "T3            22.100000   23.290000    29.236000  \n",
       "RH_3          38.530000   41.760000    50.163333  \n",
       "T4            20.666667   22.100000    26.200000  \n",
       "RH_4          38.400000   42.156667    51.090000  \n",
       "T5            19.390000   20.619643    25.795000  \n",
       "RH_5          49.090000   53.663333    96.321667  \n",
       "T6             7.300000   11.256000    28.290000  \n",
       "RH_6          55.290000   83.226667    99.900000  \n",
       "T7            20.033333   21.600000    26.000000  \n",
       "RH_7          34.863333   39.000000    51.400000  \n",
       "T8            22.100000   23.390000    27.230000  \n",
       "RH_8          42.375000   46.536000    58.780000  \n",
       "T9            19.390000   20.600000    24.500000  \n",
       "RH_9          40.900000   44.338095    53.326667  \n",
       "T_out          6.916667   10.408333    26.100000  \n",
       "Press_mm_hg  756.100000  760.933333   772.300000  \n",
       "RH_out        83.666667   91.666667   100.000000  \n",
       "Windspeed      3.666667    5.500000    14.000000  \n",
       "Visibility    40.000000   40.000000    66.000000  \n",
       "Tdewpoint      3.433333    6.566667    15.500000  \n",
       "rv1           24.897653   37.583769    49.996530  \n",
       "rv2           24.897653   37.583769    49.996530  "
      ]
     },
     "execution_count": 39,
     "metadata": {},
     "output_type": "execute_result"
    }
   ],
   "source": [
    "data.describe().T"
   ]
  },
  {
   "cell_type": "markdown",
   "id": "5624b915-0c83-4bb2-bbcf-8efd3090da86",
   "metadata": {},
   "source": [
    "## Question 17\n",
    "\n",
    "From the dataset, fit a linear model on the relationship between the temperature in the living room in Celsius (x = T2) and the temperature outside the building (y = T6). What is the Root Mean Squared error in three D.P?"
   ]
  },
  {
   "cell_type": "code",
   "execution_count": 40,
   "id": "df850c7f-8cbc-4828-aa33-e9cd488e0705",
   "metadata": {},
   "outputs": [
    {
     "data": {
      "text/plain": [
       "array([[19.2       ],\n",
       "       [19.2       ],\n",
       "       [19.2       ],\n",
       "       ...,\n",
       "       [25.62857143],\n",
       "       [25.414     ],\n",
       "       [25.26428571]])"
      ]
     },
     "execution_count": 40,
     "metadata": {},
     "output_type": "execute_result"
    }
   ],
   "source": [
    "x = data['T2'].values.reshape(-1, 1)\n",
    "x"
   ]
  },
  {
   "cell_type": "code",
   "execution_count": 41,
   "id": "6be99348-d6c1-4d86-8858-02e2fcb4f95c",
   "metadata": {},
   "outputs": [],
   "source": [
    "y = data['T6']"
   ]
  },
  {
   "cell_type": "code",
   "execution_count": 42,
   "id": "88fdf885-9550-4e12-b1d1-680a93dc9bf8",
   "metadata": {},
   "outputs": [],
   "source": [
    "model = LinearRegression()"
   ]
  },
  {
   "cell_type": "code",
   "execution_count": 43,
   "id": "06b1feda-492c-4f2f-ac32-e933d85cf56d",
   "metadata": {},
   "outputs": [
    {
     "data": {
      "text/html": [
       "<style>#sk-container-id-2 {color: black;background-color: white;}#sk-container-id-2 pre{padding: 0;}#sk-container-id-2 div.sk-toggleable {background-color: white;}#sk-container-id-2 label.sk-toggleable__label {cursor: pointer;display: block;width: 100%;margin-bottom: 0;padding: 0.3em;box-sizing: border-box;text-align: center;}#sk-container-id-2 label.sk-toggleable__label-arrow:before {content: \"▸\";float: left;margin-right: 0.25em;color: #696969;}#sk-container-id-2 label.sk-toggleable__label-arrow:hover:before {color: black;}#sk-container-id-2 div.sk-estimator:hover label.sk-toggleable__label-arrow:before {color: black;}#sk-container-id-2 div.sk-toggleable__content {max-height: 0;max-width: 0;overflow: hidden;text-align: left;background-color: #f0f8ff;}#sk-container-id-2 div.sk-toggleable__content pre {margin: 0.2em;color: black;border-radius: 0.25em;background-color: #f0f8ff;}#sk-container-id-2 input.sk-toggleable__control:checked~div.sk-toggleable__content {max-height: 200px;max-width: 100%;overflow: auto;}#sk-container-id-2 input.sk-toggleable__control:checked~label.sk-toggleable__label-arrow:before {content: \"▾\";}#sk-container-id-2 div.sk-estimator input.sk-toggleable__control:checked~label.sk-toggleable__label {background-color: #d4ebff;}#sk-container-id-2 div.sk-label input.sk-toggleable__control:checked~label.sk-toggleable__label {background-color: #d4ebff;}#sk-container-id-2 input.sk-hidden--visually {border: 0;clip: rect(1px 1px 1px 1px);clip: rect(1px, 1px, 1px, 1px);height: 1px;margin: -1px;overflow: hidden;padding: 0;position: absolute;width: 1px;}#sk-container-id-2 div.sk-estimator {font-family: monospace;background-color: #f0f8ff;border: 1px dotted black;border-radius: 0.25em;box-sizing: border-box;margin-bottom: 0.5em;}#sk-container-id-2 div.sk-estimator:hover {background-color: #d4ebff;}#sk-container-id-2 div.sk-parallel-item::after {content: \"\";width: 100%;border-bottom: 1px solid gray;flex-grow: 1;}#sk-container-id-2 div.sk-label:hover label.sk-toggleable__label {background-color: #d4ebff;}#sk-container-id-2 div.sk-serial::before {content: \"\";position: absolute;border-left: 1px solid gray;box-sizing: border-box;top: 0;bottom: 0;left: 50%;z-index: 0;}#sk-container-id-2 div.sk-serial {display: flex;flex-direction: column;align-items: center;background-color: white;padding-right: 0.2em;padding-left: 0.2em;position: relative;}#sk-container-id-2 div.sk-item {position: relative;z-index: 1;}#sk-container-id-2 div.sk-parallel {display: flex;align-items: stretch;justify-content: center;background-color: white;position: relative;}#sk-container-id-2 div.sk-item::before, #sk-container-id-2 div.sk-parallel-item::before {content: \"\";position: absolute;border-left: 1px solid gray;box-sizing: border-box;top: 0;bottom: 0;left: 50%;z-index: -1;}#sk-container-id-2 div.sk-parallel-item {display: flex;flex-direction: column;z-index: 1;position: relative;background-color: white;}#sk-container-id-2 div.sk-parallel-item:first-child::after {align-self: flex-end;width: 50%;}#sk-container-id-2 div.sk-parallel-item:last-child::after {align-self: flex-start;width: 50%;}#sk-container-id-2 div.sk-parallel-item:only-child::after {width: 0;}#sk-container-id-2 div.sk-dashed-wrapped {border: 1px dashed gray;margin: 0 0.4em 0.5em 0.4em;box-sizing: border-box;padding-bottom: 0.4em;background-color: white;}#sk-container-id-2 div.sk-label label {font-family: monospace;font-weight: bold;display: inline-block;line-height: 1.2em;}#sk-container-id-2 div.sk-label-container {text-align: center;}#sk-container-id-2 div.sk-container {/* jupyter's `normalize.less` sets `[hidden] { display: none; }` but bootstrap.min.css set `[hidden] { display: none !important; }` so we also need the `!important` here to be able to override the default hidden behavior on the sphinx rendered scikit-learn.org. See: https://github.com/scikit-learn/scikit-learn/issues/21755 */display: inline-block !important;position: relative;}#sk-container-id-2 div.sk-text-repr-fallback {display: none;}</style><div id=\"sk-container-id-2\" class=\"sk-top-container\"><div class=\"sk-text-repr-fallback\"><pre>LinearRegression()</pre><b>In a Jupyter environment, please rerun this cell to show the HTML representation or trust the notebook. <br />On GitHub, the HTML representation is unable to render, please try loading this page with nbviewer.org.</b></div><div class=\"sk-container\" hidden><div class=\"sk-item\"><div class=\"sk-estimator sk-toggleable\"><input class=\"sk-toggleable__control sk-hidden--visually\" id=\"sk-estimator-id-2\" type=\"checkbox\" checked><label for=\"sk-estimator-id-2\" class=\"sk-toggleable__label sk-toggleable__label-arrow\">LinearRegression</label><div class=\"sk-toggleable__content\"><pre>LinearRegression()</pre></div></div></div></div></div>"
      ],
      "text/plain": [
       "LinearRegression()"
      ]
     },
     "execution_count": 43,
     "metadata": {},
     "output_type": "execute_result"
    }
   ],
   "source": [
    "model.fit(x,y)"
   ]
  },
  {
   "cell_type": "code",
   "execution_count": 44,
   "id": "08bcbed4-2190-42d0-b253-420001c1ba82",
   "metadata": {},
   "outputs": [],
   "source": [
    "y_pred = model.predict(x)"
   ]
  },
  {
   "cell_type": "code",
   "execution_count": 45,
   "id": "d5302f60-2245-4629-a494-472c6540ad4c",
   "metadata": {},
   "outputs": [
    {
     "data": {
      "text/plain": [
       "3.6444644873484573"
      ]
     },
     "execution_count": 45,
     "metadata": {},
     "output_type": "execute_result"
    }
   ],
   "source": [
    "\n",
    "mean_squared_error(y, y_pred,squared=False)"
   ]
  },
  {
   "cell_type": "markdown",
   "id": "dbef5465-5c18-40f3-8d7f-b04979233632",
   "metadata": {},
   "source": [
    "## Question 18\n",
    "\n",
    "\r\n",
    "Remove the following columns: [“date”, “lights”]. The target variable is “Appliances”. Use a 70-30 train-test set split with a  random state of 42 (for reproducibility). Normalize the dataset using the MinMaxScaler (Hint: Use the MinMaxScaler fit_transform and transform methods on the train and test set respectively). Run a multiple linear regression using the training set. Answer the following questions:\r\n",
    "\r\n",
    "What is the Mean Absolute Error (in three decimal places) for the  training set?"
   ]
  },
  {
   "cell_type": "code",
   "execution_count": 46,
   "id": "f3973998-8296-49a6-9e19-99a6d009d5c0",
   "metadata": {},
   "outputs": [],
   "source": [
    "# Remove columns [\"date\", \"lights\"]\n",
    "data.drop(['date', 'lights'], axis=1, inplace=True)"
   ]
  },
  {
   "cell_type": "code",
   "execution_count": 47,
   "id": "861e0b0f-f025-44af-a7bd-79342c17b895",
   "metadata": {},
   "outputs": [
    {
     "data": {
      "text/plain": [
       "53.74228107493448"
      ]
     },
     "execution_count": 47,
     "metadata": {},
     "output_type": "execute_result"
    }
   ],
   "source": [
    "\n",
    "# Set 'Appliances' as the target variable\n",
    "X = data.drop('Appliances', axis=1)\n",
    "y = data['Appliances']\n",
    "\n",
    "# Splitting the dataset into a 70-30 train-test set\n",
    "X_train, X_test, y_train, y_test = train_test_split(X, y, test_size=0.3, random_state=42)\n",
    "\n",
    "# Normalize the dataset using MinMaxScaler\n",
    "scaler = MinMaxScaler()\n",
    "X_train_normalized = scaler.fit_transform(X_train)\n",
    "X_test_normalized = scaler.transform(X_test)\n",
    "\n",
    "# Run a multiple linear regression\n",
    "model = LinearRegression()\n",
    "model.fit(X_train_normalized, y_train)\n",
    "\n",
    "# Training performance\n",
    "y_train_pred = model.predict(X_train_normalized)\n",
    "train_mae = mean_absolute_error(y_train, y_train_pred)\n",
    "\n",
    "train_mae"
   ]
  },
  {
   "cell_type": "markdown",
   "id": "adf1860a-06f9-4185-bfe4-190ccc6d9b76",
   "metadata": {},
   "source": [
    "## Question 19\n",
    "\n",
    "What is the Root Mean Squared Error (in three decimal places) for the training set?"
   ]
  },
  {
   "cell_type": "code",
   "execution_count": 48,
   "id": "fe14c05a-a581-4302-b70b-7674449fda68",
   "metadata": {},
   "outputs": [
    {
     "data": {
      "text/plain": [
       "95.21565985214606"
      ]
     },
     "execution_count": 48,
     "metadata": {},
     "output_type": "execute_result"
    }
   ],
   "source": [
    "# Training performance\n",
    "y_train_pred = model.predict(X_train_normalized)\n",
    "train_rmse = mean_squared_error(y_train, y_train_pred, squared = False)\n",
    "\n",
    "train_rmse"
   ]
  },
  {
   "cell_type": "markdown",
   "id": "7c9a08d6-16fe-4c36-9ac3-6c72600a521b",
   "metadata": {},
   "source": [
    "## Question 20\n",
    "\n",
    "\r\n",
    "What is the Mean Absolute Error (in three decimal places) for test set?"
   ]
  },
  {
   "cell_type": "code",
   "execution_count": 50,
   "id": "b8102c1a-e5ea-4f4a-a099-786f15291062",
   "metadata": {},
   "outputs": [
    {
     "data": {
      "text/plain": [
       "53.64297765584952"
      ]
     },
     "execution_count": 50,
     "metadata": {},
     "output_type": "execute_result"
    }
   ],
   "source": [
    "# Testing performance throu MAE\n",
    "y_test_pred = model.predict(X_test_normalized)\n",
    "test_mae = mean_absolute_error(y_test, y_test_pred)\n",
    "\n",
    "test_mae"
   ]
  },
  {
   "cell_type": "markdown",
   "id": "0ede8e82-c0db-49ba-bba2-a2c2dcc24467",
   "metadata": {},
   "source": [
    "## Question 21\n",
    "\n",
    "What is the Root Mean Squared Error (in three decimal places) for test set?"
   ]
  },
  {
   "cell_type": "code",
   "execution_count": 53,
   "id": "ace705b2-75c4-4327-8ef3-923748e92552",
   "metadata": {},
   "outputs": [
    {
     "data": {
      "text/plain": [
       "93.64046093998029"
      ]
     },
     "execution_count": 53,
     "metadata": {},
     "output_type": "execute_result"
    }
   ],
   "source": [
    "# Testing performance through RMSE\n",
    "y_test_pred = model.predict(X_test_normalized)\n",
    "test_rmse = mean_squared_error(y_test, y_test_pred, squared = False)\n",
    "\n",
    "test_rmse"
   ]
  },
  {
   "cell_type": "markdown",
   "id": "c4870908-f857-4ad0-96d7-678ca87e738b",
   "metadata": {},
   "source": [
    "## Question 23\n",
    "\n",
    "Train a ridge regression model with default parameters. Is there any change to the root mean squared error (RMSE) when evaluated on the test set?"
   ]
  },
  {
   "cell_type": "code",
   "execution_count": 54,
   "id": "f16c85d3-f1ff-449b-8538-a38b893a7cf5",
   "metadata": {},
   "outputs": [
    {
     "data": {
      "text/plain": [
       "93.70877477642011"
      ]
     },
     "execution_count": 54,
     "metadata": {},
     "output_type": "execute_result"
    }
   ],
   "source": [
    "from sklearn.linear_model import Ridge\n",
    "\n",
    "# Train a Ridge regression model with default parameters\n",
    "ridge_model = Ridge()\n",
    "ridge_model.fit(X_train_normalized, y_train)\n",
    "\n",
    "# Predict on the test set\n",
    "y_test_pred_ridge = ridge_model.predict(X_test_normalized)\n",
    "\n",
    "# Calculate the RMSE for the Ridge model on the test set\n",
    "test_rmse_ridge = mean_squared_error(y_test, y_test_pred_ridge, squared=False)\n",
    "test_rmse_ridge\n"
   ]
  },
  {
   "cell_type": "markdown",
   "id": "88966cd4-ad56-4993-a821-9bc5a72430e7",
   "metadata": {},
   "source": [
    "## Question 24\n",
    "\n",
    "\n",
    "Train a lasso regression model with default value and obtain the new feature weights with it. How many of the features have non-zero feature weights?"
   ]
  },
  {
   "cell_type": "code",
   "execution_count": 55,
   "id": "b62414c9-33e8-45e3-bddc-1a6729a0eca6",
   "metadata": {},
   "outputs": [
    {
     "data": {
      "text/plain": [
       "4"
      ]
     },
     "execution_count": 55,
     "metadata": {},
     "output_type": "execute_result"
    }
   ],
   "source": [
    "from sklearn.linear_model import Lasso\n",
    "\n",
    "# Train a Lasso regression model with default parameters\n",
    "lasso_model = Lasso()\n",
    "lasso_model.fit(X_train_normalized, y_train)\n",
    "\n",
    "# Obtain the feature weights\n",
    "lasso_coefficients = lasso_model.coef_\n",
    "\n",
    "# Count the number of features with non-zero weights\n",
    "non_zero_weights = np.sum(lasso_coefficients != 0)\n",
    "non_zero_weights"
   ]
  },
  {
   "cell_type": "markdown",
   "id": "1d0c72e2-5e7f-4988-ade3-402aeed0fee7",
   "metadata": {},
   "source": [
    "## Question 25\n",
    "\n",
    "What is the new RMSE with the Lasso Regression on the test set?"
   ]
  },
  {
   "cell_type": "code",
   "execution_count": 56,
   "id": "e26ab065-04bb-408f-a43c-4478ee7e316c",
   "metadata": {},
   "outputs": [
    {
     "data": {
      "text/plain": [
       "99.42422892589771"
      ]
     },
     "execution_count": 56,
     "metadata": {},
     "output_type": "execute_result"
    }
   ],
   "source": [
    "# Predict on the test set using the Lasso model\n",
    "y_test_pred_lasso = lasso_model.predict(X_test_normalized)\n",
    "\n",
    "# Calculate the RMSE for the Lasso model on the test set\n",
    "test_rmse_lasso = mean_squared_error(y_test, y_test_pred_lasso, squared=False)\n",
    "test_rmse_lasso"
   ]
  },
  {
   "cell_type": "code",
   "execution_count": null,
   "id": "fe6f330c-50aa-402e-a206-b569565aa438",
   "metadata": {},
   "outputs": [],
   "source": []
  }
 ],
 "metadata": {
  "kernelspec": {
   "display_name": "Python 3 (ipykernel)",
   "language": "python",
   "name": "python3"
  },
  "language_info": {
   "codemirror_mode": {
    "name": "ipython",
    "version": 3
   },
   "file_extension": ".py",
   "mimetype": "text/x-python",
   "name": "python",
   "nbconvert_exporter": "python",
   "pygments_lexer": "ipython3",
   "version": "3.11.7"
  }
 },
 "nbformat": 4,
 "nbformat_minor": 5
}
